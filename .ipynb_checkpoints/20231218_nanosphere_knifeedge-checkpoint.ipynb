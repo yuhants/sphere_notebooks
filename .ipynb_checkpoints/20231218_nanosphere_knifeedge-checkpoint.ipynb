{
 "cells": [
  {
   "cell_type": "markdown",
   "metadata": {},
   "source": [
    "Measure beam size right before the chamber"
   ]
  },
  {
   "cell_type": "code",
   "execution_count": 1,
   "metadata": {},
   "outputs": [],
   "source": [
    "import numpy as np\n",
    "from scipy.optimize import curve_fit\n",
    "from scipy.special import erf\n",
    "\n",
    "import matplotlib.pyplot as plt"
   ]
  },
  {
   "cell_type": "code",
   "execution_count": 2,
   "metadata": {},
   "outputs": [],
   "source": [
    "def direction(power):\n",
    "    return (np.sign(power[0] - power[-1]))\n",
    "\n",
    "def model(y, alpha, w, y0, bg, direction):\n",
    "    return (1/4.) * np.pi * alpha * w * w * (direction * erf(np.sqrt(2)*(y-y0)/w) + 1) + bg"
   ]
  },
  {
   "cell_type": "code",
   "execution_count": 3,
   "metadata": {},
   "outputs": [],
   "source": [
    "def fit_beam_size(step, power, guess=[80/np.pi, 0.7, 2e-5, 0]):\n",
    "    _direction = direction(power)\n",
    "    power = np.asarray(power)\n",
    "    \n",
    "    # Positions of each measurement\n",
    "    y = -1 * np.arange(power.size) * step\n",
    "    popt, pcov = curve_fit(lambda y, alpha, w, y0, bg: model(y, alpha, w, y0, bg, _direction)\n",
    "                           , y, power, p0=guess, maxfev=5000)\n",
    "\n",
    "    # `alpha`: normalized total power,\n",
    "    # `w`: beam size,\n",
    "    # `y0`: beam center,\n",
    "    # `bg`: background\n",
    "    return popt"
   ]
  },
  {
   "cell_type": "markdown",
   "metadata": {},
   "source": [
    "## Horizontal"
   ]
  },
  {
   "cell_type": "code",
   "execution_count": 4,
   "metadata": {},
   "outputs": [],
   "source": [
    "step = 0.25 # mm\n",
    "p0 = [134, 133, 133, 134, 135, 135, 135, 136, 135, 135, 135, 134, 133, 132, 130, 128, 125, 122, 118, 114, 109, 104, 98.3, 92.3, 86.0, 79.6, 73.4, 66.8, 60.2, 53.8, 47.7, 41.8, 36.2, 31.0, 26.4, 21.8, 18.0, 14.4, 11.4, 8.8, 6.6, 4.8, 3.5, 2.4, 1.6, 1.0, 0.6, 0.3, 0.1, 0.0]"
   ]
  },
  {
   "cell_type": "code",
   "execution_count": 5,
   "metadata": {
    "scrolled": true
   },
   "outputs": [
    {
     "name": "stdout",
     "output_type": "stream",
     "text": [
      "Beam waist: 4.01 mm\n"
     ]
    },
    {
     "data": {
      "text/plain": [
       "[]"
      ]
     },
     "execution_count": 5,
     "metadata": {},
     "output_type": "execute_result"
    },
    {
     "data": {
      "image/png": "[encoded data removed]",
      "text/plain": [
       "<Figure size 432x288 with 1 Axes>"
      ]
     },
     "metadata": {
      "needs_background": "light"
     },
     "output_type": "display_data"
    }
   ],
   "source": [
    "alpha, w, y0, bg = fit_beam_size(step, p0)\n",
    "print(f'Beam waist: {w:.2f} mm')\n",
    "\n",
    "y = -1 * np.arange(len(p0)) * step\n",
    "plt.plot(y, model(y, alpha, w, y0, bg, direction(p0)))\n",
    "plt.plot(y, p0, '.')\n",
    "plt.plot()"
   ]
  },
  {
   "cell_type": "markdown",
   "metadata": {},
   "source": [
    "## Vertical"
   ]
  },
  {
   "cell_type": "code",
   "execution_count": 6,
   "metadata": {},
   "outputs": [],
   "source": [
    "step = 0.25 # mm\n",
    "p0 = [138, 138, 137, 135, 134, 133, 131, 129, 126, 123, 120, 115, 111, 105, 100, 93.6, 87.2, 80.2, 73.4, 66.1, 59.2, 52.3, 45.8, 39.4, 33.7, 28.4, 23.8, 19.6, 16.0, 12.6, 9.8, 7.4, 5.4, 3.8, 2.5, 1.6, 0.9, 0.5, 0.2, 0.1, 0]"
   ]
  },
  {
   "cell_type": "code",
   "execution_count": 7,
   "metadata": {
    "scrolled": true
   },
   "outputs": [
    {
     "name": "stdout",
     "output_type": "stream",
     "text": [
      "Beam waist: 3.98 mm\n"
     ]
    },
    {
     "data": {
      "text/plain": [
       "[]"
      ]
     },
     "execution_count": 7,
     "metadata": {},
     "output_type": "execute_result"
    },
    {
     "data": {
      "image/png": "[encoded data removed]",
      "text/plain": [
       "<Figure size 432x288 with 1 Axes>"
      ]
     },
     "metadata": {
      "needs_background": "light"
     },
     "output_type": "display_data"
    }
   ],
   "source": [
    "alpha, w, y0, bg = fit_beam_size(step, p0)\n",
    "print(f'Beam waist: {w:.2f} mm')\n",
    "\n",
    "y = -1 * np.arange(len(p0)) * step\n",
    "plt.plot(y, model(y, alpha, w, y0, bg, direction(p0)))\n",
    "plt.plot(y, p0, '.')\n",
    "plt.plot()"
   ]
  },
  {
   "cell_type": "code",
   "execution_count": null,
   "metadata": {},
   "outputs": [],
   "source": []
  }
 ],
 "metadata": {
  "kernelspec": {
   "display_name": "microspheres",
   "language": "python",
   "name": "microspheres"
  },
  "language_info": {
   "codemirror_mode": {
    "name": "ipython",
    "version": 3
   },
   "file_extension": ".py",
   "mimetype": "text/x-python",
   "name": "python",
   "nbconvert_exporter": "python",
   "pygments_lexer": "ipython3",
   "version": "3.10.2"
  }
 },
 "nbformat": 4,
 "nbformat_minor": 4
}
