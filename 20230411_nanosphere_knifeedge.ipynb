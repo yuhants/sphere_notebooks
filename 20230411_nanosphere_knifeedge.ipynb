{
 "cells": [
  {
   "cell_type": "code",
   "execution_count": 1,
   "metadata": {},
   "outputs": [],
   "source": [
    "import numpy as np\n",
    "from scipy.optimize import curve_fit\n",
    "from scipy.special import erf\n",
    "\n",
    "import matplotlib.pyplot as plt"
   ]
  },
  {
   "cell_type": "code",
   "execution_count": 2,
   "metadata": {},
   "outputs": [],
   "source": [
    "def direction(power):\n",
    "    return (np.sign(power[0] - power[-1]))\n",
    "\n",
    "def model(y, alpha, w, y0, bg, direction):\n",
    "    return (1/4.) * np.pi * alpha * w * w * (direction * erf(np.sqrt(2)*(y-y0)/w) + 1) + bg"
   ]
  },
  {
   "cell_type": "code",
   "execution_count": 3,
   "metadata": {},
   "outputs": [],
   "source": [
    "def fit_beam_size(step, power, guess=[80/np.pi, 0.7, 2e-5, 0]):\n",
    "    _direction = direction(power)\n",
    "    power = np.asarray(power)\n",
    "    \n",
    "    # Positions of each measurement\n",
    "    y = -1 * np.arange(power.size) * step\n",
    "    popt, pcov = curve_fit(lambda y, alpha, w, y0, bg: model(y, alpha, w, y0, bg, _direction)\n",
    "                           , y, power, p0=guess, maxfev=5000)\n",
    "\n",
    "    # `alpha`: normalized total power,\n",
    "    # `w`: beam size,\n",
    "    # `y0`: beam center,\n",
    "    # `bg`: background\n",
    "    return popt"
   ]
  },
  {
   "cell_type": "code",
   "execution_count": 4,
   "metadata": {},
   "outputs": [],
   "source": [
    "step = 0.25 # mm\n",
    "p0 = [217, 217, 213, 210, 208, 205, 200, 195, 190, 188, 178, 167, 153, 142, 128, 118, 105, 96, 80, 71, 60, 51, 41, 33, 26, 20, 15, 11, 8, 5, 4, 3, 2, 2, 1]"
   ]
  },
  {
   "cell_type": "code",
   "execution_count": 12,
   "metadata": {},
   "outputs": [
    {
     "name": "stdout",
     "output_type": "stream",
     "text": [
      "Beam waist: 3.47 mm\n"
     ]
    },
    {
     "data": {
      "text/plain": [
       "[]"
      ]
     },
     "execution_count": 12,
     "metadata": {},
     "output_type": "execute_result"
    },
    {
     "data": {
      "image/png": "[encoded data removed]",
      "text/plain": [
       "<Figure size 432x288 with 1 Axes>"
      ]
     },
     "metadata": {
      "needs_background": "light"
     },
     "output_type": "display_data"
    }
   ],
   "source": [
    "alpha, w, y0, bg = fit_beam_size(step, p0)\n",
    "print(f'Beam waist: {w:.2f} mm')\n",
    "\n",
    "y = -1 * np.arange(len(p0)) * step\n",
    "plt.plot(y, model(y, alpha, w, y0, bg, direction(p0)))\n",
    "plt.plot(y, p0, '.')\n",
    "plt.plot()"
   ]
  },
  {
   "cell_type": "code",
   "execution_count": 13,
   "metadata": {},
   "outputs": [],
   "source": [
    "pz = [220, 217, 215, 214, 211, 208, 200, 197, 195, 183, 170, 161, 148, 136, 124, 109, 98, 85, 74, 60, 54, 43, 35, 26, 20, 14, 10, 7, 5, 3, 2, 1]"
   ]
  },
  {
   "cell_type": "code",
   "execution_count": 16,
   "metadata": {},
   "outputs": [
    {
     "name": "stdout",
     "output_type": "stream",
     "text": [
      "Beam waist (vertical): 3.40 mm\n"
     ]
    },
    {
     "data": {
      "text/plain": [
       "[]"
      ]
     },
     "execution_count": 16,
     "metadata": {},
     "output_type": "execute_result"
    },
    {
     "data": {
      "image/png": "[encoded data removed]",
      "text/plain": [
       "<Figure size 432x288 with 1 Axes>"
      ]
     },
     "metadata": {
      "needs_background": "light"
     },
     "output_type": "display_data"
    }
   ],
   "source": [
    "alpha, w, y0, bg = fit_beam_size(step, pz)\n",
    "print(f'Beam waist (vertical): {w:.2f} mm')\n",
    "\n",
    "y = -1 * np.arange(len(pz)) * step\n",
    "plt.plot(y, model(y, alpha, w, y0, bg, direction(pz)))\n",
    "plt.plot(y, pz, '.')\n",
    "plt.plot()"
   ]
  },
  {
   "cell_type": "code",
   "execution_count": null,
   "metadata": {},
   "outputs": [],
   "source": []
  }
 ],
 "metadata": {
  "kernelspec": {
   "display_name": "microspheres",
   "language": "python",
   "name": "microspheres"
  },
  "language_info": {
   "codemirror_mode": {
    "name": "ipython",
    "version": 3
   },
   "file_extension": ".py",
   "mimetype": "text/x-python",
   "name": "python",
   "nbconvert_exporter": "python",
   "pygments_lexer": "ipython3",
   "version": "3.10.2"
  }
 },
 "nbformat": 4,
 "nbformat_minor": 4
}
