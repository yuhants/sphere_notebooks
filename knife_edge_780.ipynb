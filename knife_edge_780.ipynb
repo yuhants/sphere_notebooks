{
 "cells": [
  {
   "cell_type": "code",
   "execution_count": 4,
   "metadata": {},
   "outputs": [],
   "source": [
    "import numpy as np\n",
    "from scipy.optimize import curve_fit\n",
    "from scipy.special import erf"
   ]
  },
  {
   "cell_type": "code",
   "execution_count": 38,
   "metadata": {},
   "outputs": [],
   "source": [
    "import matplotlib.pyplot as plt"
   ]
  },
  {
   "cell_type": "code",
   "execution_count": 89,
   "metadata": {},
   "outputs": [],
   "source": [
    "step = 0.127 # mm\n",
    "power = np.asarray([29.6, 29.6, 29.6, 29.5, 29.4, 29, 27.7, 24.7, 19.9, 14, 8.3, 3.9, \n",
    "                    1.4, 0.4, 0.1, 0.1, 0.1, 0.1, 0.1, 0]) # mW"
   ]
  },
  {
   "cell_type": "markdown",
   "metadata": {},
   "source": [
    "### Define the model for fitting"
   ]
  },
  {
   "cell_type": "code",
   "execution_count": 65,
   "metadata": {},
   "outputs": [],
   "source": [
    "def direction(power):\n",
    "    return (np.sign(power[0] - power[-1]))"
   ]
  },
  {
   "cell_type": "code",
   "execution_count": 61,
   "metadata": {},
   "outputs": [],
   "source": [
    "# See, e.g., Equation 2 in https://opg.optica.org/ao/fulltext.cfm?uri=ao-52-16-3849&id=255405\n",
    "def model(y, alpha, w, y0, bg, direction):\n",
    "    return (1/4.) * np.pi * alpha * w * w * (direction * erf(np.sqrt(2)*(y-y0)/w) + 1) + bg"
   ]
  },
  {
   "cell_type": "code",
   "execution_count": 83,
   "metadata": {},
   "outputs": [],
   "source": [
    "def fit_beam_size(step, power, guess=[80/np.pi, 0.7, 2e-5, 0]):\n",
    "    _direction = direction(power)\n",
    "    power = np.asarray(power)\n",
    "    \n",
    "    # Positions of each measurement\n",
    "    y = -1 * np.arange(power.size) * step\n",
    "    popt, pcov = curve_fit(lambda y, alpha, w, y0, bg: model(y, alpha, w, y0, bg, _direction)\n",
    "                           , y, power, p0=guess, maxfev=5000)\n",
    "\n",
    "    # `alpha`: normalized total power,\n",
    "    # `w`: beam size,\n",
    "    # `y0`: beam center,\n",
    "    # `bg`: background\n",
    "    return popt"
   ]
  },
  {
   "cell_type": "markdown",
   "metadata": {},
   "source": [
    "### Fit and plot the result"
   ]
  },
  {
   "cell_type": "code",
   "execution_count": 86,
   "metadata": {},
   "outputs": [
    {
     "name": "stdout",
     "output_type": "stream",
     "text": [
      "80.28400706285824 0.4840610536062074 -1.1257655633022001 0.039516727534008075\n"
     ]
    }
   ],
   "source": [
    "alpha, w, y0, bg = fit_beam_size(step, power)\n",
    "print(alpha, w, y0, bg)"
   ]
  },
  {
   "cell_type": "code",
   "execution_count": 87,
   "metadata": {
    "scrolled": true
   },
   "outputs": [
    {
     "data": {
      "text/plain": [
       "[<matplotlib.lines.Line2D at 0x1c2ee70e590>]"
      ]
     },
     "execution_count": 87,
     "metadata": {},
     "output_type": "execute_result"
    },
    {
     "data": {
      "image/png": "[encoded data removed]",
      "text/plain": [
       "<Figure size 576x288 with 1 Axes>"
      ]
     },
     "metadata": {
      "needs_background": "light"
     },
     "output_type": "display_data"
    }
   ],
   "source": [
    "fig, ax = plt.subplots(1, 1, figsize=(8, 4))\n",
    "\n",
    "ax.plot(y, model(y, alpha, w, y0, bg, direction(power)))\n",
    "ax.plot(y, power, '.')"
   ]
  }
 ],
 "metadata": {
  "kernelspec": {
   "display_name": "microspheres",
   "language": "python",
   "name": "microspheres"
  },
  "language_info": {
   "codemirror_mode": {
    "name": "ipython",
    "version": 3
   },
   "file_extension": ".py",
   "mimetype": "text/x-python",
   "name": "python",
   "nbconvert_exporter": "python",
   "pygments_lexer": "ipython3",
   "version": "3.10.2"
  }
 },
 "nbformat": 4,
 "nbformat_minor": 4
}
