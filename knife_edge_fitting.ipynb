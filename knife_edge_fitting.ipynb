{
 "cells": [
  {
   "cell_type": "code",
   "execution_count": 1,
   "metadata": {},
   "outputs": [],
   "source": [
    "import numpy as np\n",
    "from scipy.optimize import curve_fit\n",
    "from scipy.special import erf\n",
    "\n",
    "import matplotlib.pyplot as plt"
   ]
  },
  {
   "cell_type": "code",
   "execution_count": 2,
   "metadata": {},
   "outputs": [],
   "source": [
    "step = 0.500 # mm\n",
    "power = np.asarray([84.4, 84.4, 84.4, 84.1, 83.7, 82.1, 77.2, 65.6, 48.7, 32.5, 19.2, 10.3, 5.4, 2.9, 1.5, 0.7, 0.3, 0.1,\n",
    "                   0.1, 0.1]) # mW"
   ]
  },
  {
   "cell_type": "markdown",
   "metadata": {},
   "source": [
    "### Define the model for fitting"
   ]
  },
  {
   "cell_type": "code",
   "execution_count": 3,
   "metadata": {},
   "outputs": [],
   "source": [
    "def direction(power):\n",
    "    return (np.sign(power[0] - power[-1]))"
   ]
  },
  {
   "cell_type": "code",
   "execution_count": 4,
   "metadata": {},
   "outputs": [],
   "source": [
    "# See, e.g., Equation 2 in https://opg.optica.org/ao/fulltext.cfm?uri=ao-52-16-3849&id=255405\n",
    "def model(y, alpha, w, y0, bg, direction):\n",
    "    return (1/4.) * np.pi * alpha * w * w * (direction * erf(np.sqrt(2)*(y-y0)/w) + 1) + bg"
   ]
  },
  {
   "cell_type": "code",
   "execution_count": 8,
   "metadata": {},
   "outputs": [],
   "source": [
    "def fit_beam_size(step, power, guess=[80/np.pi, 0.7, 2e-5, 0]):\n",
    "    _direction = direction(power)\n",
    "    power = np.asarray(power)\n",
    "    \n",
    "    # Positions of each measurement\n",
    "    y = -1 * np.arange(power.size) * step\n",
    "    popt, pcov = curve_fit(lambda y, alpha, w, y0, bg: model(y, alpha, w, y0, bg, _direction)\n",
    "                           , y, power, p0=guess, maxfev=5000)\n",
    "\n",
    "    # `alpha`: normalized total power,\n",
    "    # `w`: beam size,\n",
    "    # `y0`: beam center,\n",
    "    # `bg`: background\n",
    "    return popt"
   ]
  },
  {
   "cell_type": "markdown",
   "metadata": {},
   "source": [
    "### Fit and plot the result"
   ]
  },
  {
   "cell_type": "code",
   "execution_count": 9,
   "metadata": {},
   "outputs": [
    {
     "name": "stdout",
     "output_type": "stream",
     "text": [
      "13.514471790573012 1.988223425782133 -4.218307468793426 0.8883532930046766\n"
     ]
    }
   ],
   "source": [
    "alpha, w, y0, bg = fit_beam_size(step, power)\n",
    "print(alpha, w, y0, bg)"
   ]
  },
  {
   "cell_type": "code",
   "execution_count": 10,
   "metadata": {
    "scrolled": false
   },
   "outputs": [
    {
     "data": {
      "text/plain": [
       "[<matplotlib.lines.Line2D at 0x18ea9353d90>]"
      ]
     },
     "execution_count": 10,
     "metadata": {},
     "output_type": "execute_result"
    },
    {
     "data": {
      "image/png": "[encoded data removed]",
      "text/plain": [
       "<Figure size 576x288 with 1 Axes>"
      ]
     },
     "metadata": {
      "needs_background": "light"
     },
     "output_type": "display_data"
    }
   ],
   "source": [
    "fig, ax = plt.subplots(1, 1, figsize=(8, 4))\n",
    "\n",
    "y = -1 * np.arange(power.size) * step\n",
    "ax.plot(y, model(y, alpha, w, y0, bg, direction(power)))\n",
    "ax.plot(y, power, '.')"
   ]
  },
  {
   "cell_type": "markdown",
   "metadata": {},
   "source": [
    "## Z direction"
   ]
  },
  {
   "cell_type": "code",
   "execution_count": 11,
   "metadata": {},
   "outputs": [],
   "source": [
    "zstep = 0.500 # mm\n",
    "zpower = np.asarray([83.8, 83.7, 83.7, 83.7, 83.5, 83.0, 81.0, 74.9, 62.2, 45.4, 28.0, 14.8, 6.8, 2.9, 1.1, 0.4, 0.2, 0.1, 0.1]) # mW"
   ]
  },
  {
   "cell_type": "code",
   "execution_count": 12,
   "metadata": {},
   "outputs": [
    {
     "name": "stdout",
     "output_type": "stream",
     "text": [
      "15.348389614916472 1.8599884066969983 -4.603567922261079 0.5081938388967456\n"
     ]
    }
   ],
   "source": [
    "alpha, w, y0, bg = fit_beam_size(zstep, zpower)\n",
    "print(alpha, w, y0, bg)"
   ]
  },
  {
   "cell_type": "code",
   "execution_count": 14,
   "metadata": {},
   "outputs": [
    {
     "data": {
      "text/plain": [
       "[<matplotlib.lines.Line2D at 0x18ead0b8790>]"
      ]
     },
     "execution_count": 14,
     "metadata": {},
     "output_type": "execute_result"
    },
    {
     "data": {
      "image/png": "[encoded data removed]",
      "text/plain": [
       "<Figure size 576x288 with 1 Axes>"
      ]
     },
     "metadata": {
      "needs_background": "light"
     },
     "output_type": "display_data"
    }
   ],
   "source": [
    "fig, ax = plt.subplots(1, 1, figsize=(8, 4))\n",
    "\n",
    "y = -1 * np.arange(zpower.size) * zstep\n",
    "ax.plot(y, model(y, alpha, w, y0, bg, direction(power)))\n",
    "ax.plot(y, zpower, '.')"
   ]
  },
  {
   "cell_type": "code",
   "execution_count": null,
   "metadata": {},
   "outputs": [],
   "source": []
  }
 ],
 "metadata": {
  "kernelspec": {
   "display_name": "microspheres",
   "language": "python",
   "name": "microspheres"
  },
  "language_info": {
   "codemirror_mode": {
    "name": "ipython",
    "version": 3
   },
   "file_extension": ".py",
   "mimetype": "text/x-python",
   "name": "python",
   "nbconvert_exporter": "python",
   "pygments_lexer": "ipython3",
   "version": "3.10.2"
  }
 },
 "nbformat": 4,
 "nbformat_minor": 4
}
