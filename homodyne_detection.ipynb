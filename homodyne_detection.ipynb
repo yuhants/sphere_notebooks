{
 "cells": [
  {
   "cell_type": "code",
   "execution_count": 1,
   "metadata": {},
   "outputs": [],
   "source": [
    "import numpy as np\n",
    "import scipy.special as scispec\n",
    "\n",
    "import matplotlib.pyplot as plt"
   ]
  },
  {
   "cell_type": "code",
   "execution_count": 2,
   "metadata": {},
   "outputs": [],
   "source": [
    "hbar = 1.055e-34 # (J / Hz) = (kg * m^2 / s)\n",
    "c = 299792458    # m / s\n",
    "pi = np.pi"
   ]
  },
  {
   "cell_type": "code",
   "execution_count": 3,
   "metadata": {},
   "outputs": [],
   "source": [
    "n1 = 1     # Air refractive index\n",
    "NA = 0.95  # NA of trapping/collection lens\n",
    "thetamax = (1./n1) * np.arcsin(NA)  # rad"
   ]
  },
  {
   "cell_type": "code",
   "execution_count": 4,
   "metadata": {},
   "outputs": [],
   "source": [
    "lam = 1064e-9    # Laser wavelength (m)\n",
    "k = 2 * np.pi / lam\n",
    "p_sca = 3.53e-6  # Scattered laser power (W)\n",
    "A = 0.71         # Geometrical factor for z"
   ]
  },
  {
   "cell_type": "code",
   "execution_count": 5,
   "metadata": {},
   "outputs": [],
   "source": [
    "theta = np.linspace(0, thetamax, 1000)\n",
    "theta_full = np.linspace(0, pi, 1000)\n",
    "phi = np.linspace(0, 2*pi, 1000)"
   ]
  },
  {
   "cell_type": "markdown",
   "metadata": {},
   "source": [
    "## Microscope collection efficiency"
   ]
  },
  {
   "cell_type": "markdown",
   "metadata": {},
   "source": [
    "Compute the photon collection and information efficiency defined by the collection NA, (A28) and (A29) in Lorenzo's paper. We use the coordinates as in Fig. A2 so need to be a little careful of the the angles of the backscattered light. "
   ]
  },
  {
   "cell_type": "code",
   "execution_count": 6,
   "metadata": {},
   "outputs": [],
   "source": [
    "tt, pp = np.meshgrid(np.pi - theta, phi)\n",
    "tt_full, pp_full = np.meshgrid(np.pi - theta_full, phi)"
   ]
  },
  {
   "cell_type": "markdown",
   "metadata": {},
   "source": [
    "The probability that a photon emitted by a dipole in direction $\\hat{k}$ is\n",
    "$$\n",
    "    P(\\theta, \\phi) = \\frac{3}{8 \\pi} (\\cos^2{\\theta} \\cos^2{\\phi} + \\sin^2{\\phi}),\n",
    "$$\n",
    "so \n",
    "$$\n",
    "    dp_{\\mathrm{sca}} (\\theta, \\phi) = \\frac{3}{8 \\pi} P_{\\mathrm{sca}} [1 - \\sin^2{\\theta} \\cos^2{\\phi}]\n",
    "$$\n",
    "is the differential scattered power and we've also used $d \\Omega = \\sin{\\theta} d \\theta d \\phi$ while doing the integral."
   ]
  },
  {
   "cell_type": "code",
   "execution_count": 7,
   "metadata": {},
   "outputs": [],
   "source": [
    "dp = (3 / (8*pi)) * p_sca * ( (np.cos(tt)**2) * (np.cos(pp)**2) + np.sin(pp)**2) * np.sin(tt)\n",
    "dp_full = (3 / (8*pi)) * p_sca * ( (np.cos(tt_full)**2) * (np.cos(pp_full)**2) + np.sin(pp_full)**2 ) * np.sin(tt_full)"
   ]
  },
  {
   "cell_type": "code",
   "execution_count": 8,
   "metadata": {},
   "outputs": [],
   "source": [
    "phi_int = np.trapz(dp, phi, axis=1)\n",
    "theta_phi_int = np.trapz(phi_int, theta)\n",
    "\n",
    "phi_int_full = np.trapz(dp_full, phi, axis=1)\n",
    "theta_phi_int_full = np.trapz(phi_int_full, theta_full)  # Should agree with `p_sca`"
   ]
  },
  {
   "cell_type": "code",
   "execution_count": 9,
   "metadata": {
    "scrolled": true
   },
   "outputs": [
    {
     "name": "stdout",
     "output_type": "stream",
     "text": [
      "Photon collection efficiency: 0.379\n"
     ]
    }
   ],
   "source": [
    "eta_star_dc = theta_phi_int / theta_phi_int_full\n",
    "print(f'Photon collection efficiency: {eta_star_dc:.3f}')"
   ]
  },
  {
   "cell_type": "markdown",
   "metadata": {},
   "source": [
    "For information loss, we need to compare the imprecision noise in the case of imperfect photon collection to the case of perfect collection.\n",
    "\n",
    "The differential imprecision noise in $z$ is given by\n",
    "$$\n",
    "    s^{\\mathrm{imp}}_{zz} (\\theta, \\phi) = \\frac{\\hbar c}{4 k (\\cos{\\theta} -A)^2 \\cdot dp_{\\mathrm{sca}}},\n",
    "$$\n",
    "where $A$ is a geometrical fractor from the Gouy phase shift."
   ]
  },
  {
   "cell_type": "code",
   "execution_count": 10,
   "metadata": {},
   "outputs": [
    {
     "name": "stderr",
     "output_type": "stream",
     "text": [
      "C:\\Users\\yuhan\\AppData\\Local\\Temp\\ipykernel_2252\\889545678.py:2: RuntimeWarning: divide by zero encountered in true_divide\n",
      "  ds_zz_imp_full = (hbar*c) / ( 4 * k * (( A - np.cos(tt_full) )**2) * dp_full)\n"
     ]
    }
   ],
   "source": [
    "ds_zz_imp = (hbar*c) / ( 4 * k * (( A - np.cos(tt) )**2) * dp)  # -1 because we're looking at backscattered light\n",
    "ds_zz_imp_full = (hbar*c) / ( 4 * k * (( A - np.cos(tt_full) )**2) * dp_full)"
   ]
  },
  {
   "cell_type": "code",
   "execution_count": 11,
   "metadata": {},
   "outputs": [
    {
     "name": "stdout",
     "output_type": "stream",
     "text": [
      "Imprecision noise: 5.00e-28 (m^2/Hz, imperfect), 4.20e-28 (perfect)\n"
     ]
    }
   ],
   "source": [
    "phi_int_imp = np.trapz(1 / ds_zz_imp, phi, axis=1)\n",
    "theta_phi_int_imp = np.trapz(phi_int_imp, theta)\n",
    "\n",
    "phi_int_imp_full = np.trapz(1 / ds_zz_imp_full, phi, axis=1)\n",
    "theta_phi_int_imp_full = np.trapz(phi_int_imp_full, theta_full)\n",
    "\n",
    "print(f'Imprecision noise: {1 / theta_phi_int_imp:.2e} (m^2/Hz, imperfect), {1 / theta_phi_int_imp_full:.2e} (perfect)')"
   ]
  },
  {
   "cell_type": "code",
   "execution_count": 12,
   "metadata": {},
   "outputs": [
    {
     "name": "stdout",
     "output_type": "stream",
     "text": [
      "Information collection efficiency: 0.840\n"
     ]
    }
   ],
   "source": [
    "eta_dc = theta_phi_int_imp / theta_phi_int_imp_full\n",
    "print(f'Information collection efficiency: {eta_dc:.3f}', )"
   ]
  },
  {
   "cell_type": "markdown",
   "metadata": {},
   "source": [
    "## Confocal microscope and dipole image"
   ]
  },
  {
   "cell_type": "markdown",
   "metadata": {},
   "source": [
    "Our calculation follows Lorenzo's paper and this paper: https://arxiv.org/pdf/physics/0609173.pdf\n",
    "\n",
    "This paper calculates the electric field of a dipole scatterer imaged by a confocal microscope system onto the fiber tip.\n",
    "\n",
    "The coordinates $r_1, \\theta_1, \\phi_1$ are spherical coordinates in the object (dipole) space, while $\\rho_3, \\phi_3, z_3$ are cylindrical coordinates in the image (fiber) space."
   ]
  },
  {
   "cell_type": "code",
   "execution_count": 99,
   "metadata": {},
   "outputs": [],
   "source": [
    "# Polar angle in the object space; `theta_1` in the paperb\n",
    "theta = np.linspace(0, thetamax, 1000)\n",
    "\n",
    "# Angle and radius of the fiber tip\n",
    "phi3 = np.linspace(0, 2 * pi, 100)\n",
    "rho3 = np.linspace(0, 62.5e-6, 1000)  # Radial distance from fibre axis"
   ]
  },
  {
   "cell_type": "code",
   "execution_count": 31,
   "metadata": {},
   "outputs": [],
   "source": [
    "epsilon0 = 8.854e-12  # Free space permittivity (SI)\n",
    "wavelength = 1064e-9  # (m)\n",
    "omega = 2 * pi * c / wavelength\n",
    "\n",
    "# Index of the two lenses of the confocal microscope\n",
    "# In our setup everything is in air\n",
    "n1 = 1.0\n",
    "n3 = 1.0\n",
    "###\n",
    "\n",
    "k0 = omega / c  # Wavelength in vacuum\n",
    "k1 = k0 * n1    # Wavenumber in first material\n",
    "k3 = k0 * n3    # wavenumber in secondimagevalue for now based on a magnification of 8.5 being best\n",
    "\n",
    "f1 = 0.15e-3    # Focal length of the collection lens\n",
    "f3 = f1 * 10.5  # Focal length of the fiber collimator\n",
    "M = f3 / f1     # Magnification - f3 is the variable we want to optimise\n",
    "z3 = 0          # Fiber tip position"
   ]
  },
  {
   "cell_type": "markdown",
   "metadata": {},
   "source": [
    "Helper functions when doing the integral:\n",
    "$$\n",
    "    f(\\theta_1) = e^{ik_3 z_3} g(\\theta_1) (\\cos \\theta_1 / g(\\theta_1))^{1/2} \\sin \\theta_1,\n",
    "$$\n",
    "and\n",
    "$$\n",
    "    g(\\theta_1) = [1 - (\\sin \\theta_1 / M)^2]^{1/2}\n",
    "$$"
   ]
  },
  {
   "cell_type": "code",
   "execution_count": 8,
   "metadata": {},
   "outputs": [],
   "source": [
    "def g_theta(theta, M):\n",
    "    g = (1 - (np.sin(theta) / M)**2)**(1/2)\n",
    "    return g\n",
    "\n",
    "def f_theta(theta, M):\n",
    "    f = np.exp(1j * k3 * z3 * g_theta(theta, M)) * (np.cos(theta)/g_theta(theta, M))**(1/2) * np.sin(theta)\n",
    "    return f"
   ]
  },
  {
   "cell_type": "markdown",
   "metadata": {},
   "source": [
    "The $x$, $y$, and $z$ components of the electric field of an $x$-oriented dipole (which is the case for an $x$-polarized trapping beam) in the image space is given by\n",
    "\n",
    "$$\n",
    "    E^x_{3, x}(\\rho3, \\phi3, z_3) = C(f1, f3) \\cdot \\tilde{I}_{d0} + \\tilde{I}_{d2} \\cos 2 \\phi_3, \\\\\n",
    "    E^x_{3, y}(\\rho3, \\phi3, z_3) = C(f1, f3) \\cdot \\tilde{I}_{d2} \\sin 2 \\phi_3, \\\\\n",
    "    E^x_{3, z}(\\rho3, \\phi3, z_3) = C(f1, f3) \\cdot -2i \\tilde{I}_{d1, 2} \\cos \\phi_3.\n",
    "$$\n",
    "\n",
    "The notation is a little confusing at first sight - these are functions of coordinates in the image space ($\\rho3, \\phi3, z_3$) but are Cartesian $x$, $y$, and $z$ components.\n",
    "\n",
    "The numerical factors and integrals are given by\n",
    "\n",
    "$$\n",
    "    C(f1, f3) = i k^3_0 (n_1 n_3)^{1/2} e^{i f_1 (k_1 - k3 M)} / (8 \\pi M \\epsilon_0), \\\\\n",
    "    \\tilde{I}_{d0} = \\int^{\\theta^{\\mathrm{max}}_1}_0 d \\theta_1 f(\\theta_1) (1 + \\cos \\theta_1 g(\\theta_1)) J_0, \\\\\n",
    "    \\tilde{I}_{d1} = \\int^{\\theta^{\\mathrm{max}}_1}_0 d \\theta_1 f(\\theta_1) g(\\theta_1)) \\sin \\theta_1 J_1, \\\\\n",
    "    \\tilde{I}_{d1, 2} = \\int^{\\theta^{\\mathrm{max}}_1}_0 d \\theta_1 f(\\theta_1) \\cos \\theta_1 \\sin \\theta_1 M^{-2} J_1.\n",
    "$$\n",
    "The $J_m$'s are ordinary Bessel functions with argument $(k_3 \\rho_3 / M) \\sin \\theta_1$.\n",
    "\n",
    "Notice that the integrals for $\\tilde{I}_d$'s are performed with respect to the angle in the object space $\\theta_1$. The maximum integration angle is set by the NA of the trapping/collection lens."
   ]
  },
  {
   "cell_type": "code",
   "execution_count": 9,
   "metadata": {},
   "outputs": [],
   "source": [
    "C = 1j * k0**3 * (n1 * n3)**(1 / 2) * np.exp(1j * f1 * (k1 - k3 * M)) / (8 * pi * M * epsilon0)\n",
    "dx = 1  # Dipole moment"
   ]
  },
  {
   "cell_type": "code",
   "execution_count": 10,
   "metadata": {},
   "outputs": [],
   "source": [
    "Id0, Id2, Id12 = [np.empty_like(rho3, dtype=np.complex128),\n",
    "                  np.empty_like(rho3, dtype=np.complex128),\n",
    "                  np.empty_like(rho3, dtype=np.complex128)]\n",
    "ft = f_theta(theta, M)\n",
    "gt = g_theta(theta, M)\n",
    "ct = np.cos(theta)\n",
    "st = np.sin(theta)\n",
    "for i, rho in enumerate(rho3):\n",
    "    arg = 1.3 * k0 * rho / M * np.sin(theta)\n",
    "    Id0[i] = np.trapz(ft * (1 + ct * gt) * scispec.jv(0, arg), theta) # integrate over theta\n",
    "    Id2[i] = np.trapz(ft * (1 - ct * gt) * scispec.jv(2, arg), theta)\n",
    "    Id12[i] = np.trapz(ft * ct * st * M**(-2) * scispec.jv(1, arg), theta)"
   ]
  },
  {
   "cell_type": "code",
   "execution_count": 11,
   "metadata": {},
   "outputs": [],
   "source": [
    "Ex3_x, Ex3_y, Ex3_z = [np.empty((phi3.size, rho3.size), dtype=np.complex128), \n",
    "                           np.empty((phi3.size, rho3.size), dtype=np.complex128), \n",
    "                           np.empty((phi3.size, rho3.size), dtype=np.complex128)]\n",
    "for i, phi in enumerate(phi3):\n",
    "    Ex3_x[i] = C * dx * (Id0 + Id2 * np.cos(2 * phi) )\n",
    "    Ex3_y[i] = C * dx * ( Id2 * np.sin(2 * phi) ) \n",
    "    Ex3_z[i] = C * dx * (-2j * Id12 * np.cos(phi) )"
   ]
  },
  {
   "cell_type": "markdown",
   "metadata": {},
   "source": [
    "## E field in a single mode fiber"
   ]
  },
  {
   "cell_type": "markdown",
   "metadata": {},
   "source": [
    "The optical property of fiber is completely determined by the core/cladding raidus and refractive indices. For this calculation we assume some reasonable numbers."
   ]
  },
  {
   "cell_type": "code",
   "execution_count": 93,
   "metadata": {},
   "outputs": [
    {
     "name": "stdout",
     "output_type": "stream",
     "text": [
      "V parameter:  2.5158025621640916\n"
     ]
    }
   ],
   "source": [
    "a = 2.5e-6        # Core radius\n",
    "r_clad = 62.5e-6  # Cladding radius\n",
    "\n",
    "# These parameters are for specific fibers\n",
    "nco = 1.457       # Core index\n",
    "ncl = 1.447       # Cladding index\n",
    "beta = nco * k0 * 0.9968  # Propagation constant (made up a number here...need to solve the eigenvalue eq.)\n",
    "\n",
    "u = a * np.sqrt(nco**2 * k0**2 - beta**2)   # Transverse wave number in core\n",
    "w = a * np.sqrt(beta**2 - ncl**2 * k0**2)   # Transverse wave number in cladding\n",
    "print(f'V parameter:  {np.sqrt(w**2 + u**2)}')"
   ]
  },
  {
   "cell_type": "markdown",
   "metadata": {},
   "source": [
    "A single mode fiber admits two linearly polarized modes ($LP_{01}$).\n",
    "\n",
    "For a weakly guided single mode fiber, the $x$-polarized electric field solution is given by\n",
    "\n",
    "\\begin{equation}\n",
    "\\vec{E}^x_{01} (\\vec{r}, t) = \n",
    "\\begin{cases}\n",
    "    N J_0(\\frac{ur}{a}) e^{i \\beta z} \\hat{n}_x & \\text{if $r<a$}, \\\\\n",
    "    N \\frac{J_0(u)}{K_0(w)} K_0(\\frac{wr}{a}) e^{i \\beta z} \\hat{n}_x & \\text{if $r>a$}.\n",
    "\\end{cases}\n",
    "\\end{equation}\n",
    "\n",
    "Note the E-field is always pointing in the $x$-direction. For the y-polarized field, just replace $x$ by $y$.\n",
    "$N$ is just a normalization factor and we will ignore it in the calculation.\n",
    "\n",
    "We assume the fiber tip is at $z_3$ = 0 so the function is purely real."
   ]
  },
  {
   "cell_type": "code",
   "execution_count": 13,
   "metadata": {},
   "outputs": [],
   "source": [
    "r1 = np.linspace(0, a, 1000)      # Radius in core\n",
    "r2 = np.linspace(a, r_clad, 9000) # Radius in cladding\n",
    "\n",
    "rr1, pp1 = np.meshgrid(r1, phi3)   # (r, phi) coordinates\n",
    "rr2, pp2 = np.meshgrid(r2, phi3)\n",
    "\n",
    "Ex_01_in = scispec.jv(0, u*rr1 / a) # E field in core, r < a\n",
    "Ex_01_out = scispec.jv(0, u) / scispec.kv(0, w) * scispec.kv(0, w * rr2 / a) # E field in cladding, r > a"
   ]
  },
  {
   "cell_type": "markdown",
   "metadata": {},
   "source": [
    "Resample fiber E-field so that it's uniform in phi"
   ]
  },
  {
   "cell_type": "code",
   "execution_count": 15,
   "metadata": {},
   "outputs": [],
   "source": [
    "r_full = np.concatenate([r1, r2])\n",
    "Ex_01_full = np.concatenate([ Ex_01_in, Ex_01_out ], axis=1)\n",
    "\n",
    "# Resample E field\n",
    "Ex_01_full_interp = np.empty_like(Ex3_x)\n",
    "\n",
    "# Loop over phi values\n",
    "for i in range(Ex3_x.shape[0]):\n",
    "    Ex_01_full_interp[i] = np.interp(rho3, r_full, Ex_01_full[i])"
   ]
  },
  {
   "cell_type": "markdown",
   "metadata": {},
   "source": [
    "Plot fiber E-field and the real part of dipole E-field at a fixed angle:"
   ]
  },
  {
   "cell_type": "code",
   "execution_count": 16,
   "metadata": {
    "scrolled": true
   },
   "outputs": [
    {
     "name": "stderr",
     "output_type": "stream",
     "text": [
      "C:\\Users\\yuhan\\anaconda3\\envs\\microspheres\\lib\\site-packages\\matplotlib\\cbook\\__init__.py:1298: ComplexWarning: Casting complex values to real discards the imaginary part\n",
      "  return np.asarray(x, float)\n"
     ]
    },
    {
     "data": {
      "text/plain": [
       "[]"
      ]
     },
     "execution_count": 16,
     "metadata": {},
     "output_type": "execute_result"
    },
    {
     "data": {
      "image/png": "[encoded data removed]",
      "text/plain": [
       "<Figure size 432x288 with 1 Axes>"
      ]
     },
     "metadata": {
      "needs_background": "light"
     },
     "output_type": "display_data"
    }
   ],
   "source": [
    "plt.plot(r_full * 1e6, Ex_01_full[0], label='Fiber E field ($\\phi=0$, Peak normalized)')\n",
    "plt.plot(rho3 * 1e6, Ex3_x[0] / Ex3_x[0][0], label='Dipole amplitude ($Re[E_r], \\ \\phi = 0$, Peak normalized)')\n",
    "\n",
    "plt.xlim(0, 20)\n",
    "plt.xlabel('Radius ($\\mu$m)')\n",
    "plt.legend(frameon=False, fontsize=10)\n",
    "plt.plot()"
   ]
  },
  {
   "cell_type": "markdown",
   "metadata": {},
   "source": [
    "## Collection efficiency"
   ]
  },
  {
   "cell_type": "markdown",
   "metadata": {},
   "source": [
    "The collection efficiency is calculated by\n",
    "$$\n",
    "    \\eta(M) = \\frac{| \\int \\vec{E}^*_{\\mathrm{dipole}} \\cdot \\vec{E}_{\\mathrm{fiber}} dA_3|^2}{ \\int | \\vec{E}_{\\mathrm{dipole}}^2 dA_3 \\int | \\vec{E}_{\\mathrm{fiber}}|^2 dA_3}\n",
    "$$\n",
    "\n",
    "A single mode fiber supports two linearly polarized modes, so we calculate the overlap integral for the $x-$ and $y-$ polarized modes separately. The total collection efficiency is given by the sum of the two, $\\eta = \\eta^x + \\eta^y$."
   ]
  },
  {
   "cell_type": "markdown",
   "metadata": {},
   "source": [
    "Calculate the overlap integral"
   ]
  },
  {
   "cell_type": "code",
   "execution_count": 17,
   "metadata": {},
   "outputs": [],
   "source": [
    "int_num_x = np.conjugate(Ex3_x) * Ex_01_full_interp\n",
    "overlap_x = np.abs(np.trapz( np.trapz(int_num_x * rho3, rho3, axis=1), phi3)) ** 2\n",
    "\n",
    "E3x_int = np.trapz( np.trapz( (np.abs(Ex3_x)**2)*rho3, rho3, axis=1), phi3)\n",
    "Ex_int = np.trapz( np.trapz( (np.abs(Ex_01_full_interp)**2)*rho3, rho3, axis=1), phi3)"
   ]
  },
  {
   "cell_type": "code",
   "execution_count": 18,
   "metadata": {},
   "outputs": [],
   "source": [
    "int_num_y = np.conjugate(Ex3_y) * Ex_01_full_interp\n",
    "overlap_y = np.abs(np.trapz( np.trapz(int_num_y * rho3, rho3, axis=1), phi3)) ** 2\n",
    "\n",
    "E3y_int = np.trapz( np.trapz( (np.abs(Ex3_y)**2)*rho3, rho3, axis=1), phi3)"
   ]
  },
  {
   "cell_type": "code",
   "execution_count": 19,
   "metadata": {},
   "outputs": [],
   "source": [
    "eta_x = overlap_x / (E3x_int * Ex_int)\n",
    "eta_y = overlap_y / (E3y_int * Ex_int)"
   ]
  },
  {
   "cell_type": "code",
   "execution_count": 20,
   "metadata": {
    "scrolled": true
   },
   "outputs": [
    {
     "name": "stdout",
     "output_type": "stream",
     "text": [
      "Collection efficiency (x): 0.729\n",
      "Collection efficiency (y): 0.000\n",
      "Total collection efficiency: 0.729\n"
     ]
    }
   ],
   "source": [
    "print(f'Collection efficiency (x): {eta_x:.3f}')\n",
    "print(f'Collection efficiency (y): {eta_y:.3f}')\n",
    "\n",
    "print(f'Total collection efficiency: {eta_x + eta_y:.3f}')"
   ]
  },
  {
   "cell_type": "markdown",
   "metadata": {},
   "source": [
    "## Collection efficiency for different magnifications"
   ]
  },
  {
   "cell_type": "code",
   "execution_count": 131,
   "metadata": {},
   "outputs": [],
   "source": [
    "def get_efficiency(na, f1, f3, e_fiber):\n",
    "    thetamax = (1./n1) * np.arcsin(na)  # rad\n",
    "    theta = np.linspace(0, thetamax, 1000)\n",
    "\n",
    "    M = f3 / f1\n",
    "    \n",
    "    C = 1j * k0**3 * (n1 * n3)**(1 / 2) * np.exp(1j * f1 * (k1 - k3 * M)) / (8 * pi * M * epsilon0)\n",
    "    dx = 1  # Dipole moment\n",
    "    \n",
    "    Id0, Id2, Id12 = [np.empty_like(rho3, dtype=np.complex128),\n",
    "                      np.empty_like(rho3, dtype=np.complex128),\n",
    "                      np.empty_like(rho3, dtype=np.complex128)]\n",
    "    ft = f_theta(theta, M)\n",
    "    gt = g_theta(theta, M)\n",
    "    ct = np.cos(theta)\n",
    "    st = np.sin(theta)\n",
    "    for i, rho in enumerate(rho3):\n",
    "        arg = 1.3 * k0 * rho / M * np.sin(theta)\n",
    "        Id0[i] = np.trapz(ft * (1 + ct * gt) * scispec.jv(0, arg), theta) # integrate over theta\n",
    "        Id2[i] = np.trapz(ft * (1 - ct * gt) * scispec.jv(2, arg), theta)\n",
    "        Id12[i] = np.trapz(ft * ct * st * M**(-2) * scispec.jv(1, arg), theta)\n",
    "        \n",
    "    Ex3_x, Ex3_y, Ex3_z = [np.empty((phi3.size, rho3.size), dtype=np.complex128), \n",
    "                           np.empty((phi3.size, rho3.size), dtype=np.complex128), \n",
    "                           np.empty((phi3.size, rho3.size), dtype=np.complex128)]\n",
    "    \n",
    "    for i, phi in enumerate(phi3):\n",
    "        Ex3_x[i] = C * dx * (Id0 + Id2 * np.cos(2 * phi) )\n",
    "        Ex3_y[i] = C * dx * ( Id2 * np.sin(2 * phi) ) \n",
    "        Ex3_z[i] = C * dx * (-2j * Id12 * np.sin(2 * phi) )\n",
    "    \n",
    "    # Calculate overlap for both x and y polarization\n",
    "    int_num_x = np.conjugate(Ex3_x) * e_fiber\n",
    "    overlap_x = np.abs(np.trapz( np.trapz(int_num_x * rho3, rho3, axis=1), phi3)) ** 2\n",
    "    int_num_y = np.conjugate(Ex3_y) * e_fiber\n",
    "    overlap_y = np.abs(np.trapz( np.trapz(int_num_y * rho3, rho3, axis=1), phi3)) ** 2\n",
    "    \n",
    "    E3x_int = np.trapz( np.trapz( (np.abs(Ex3_x)**2)*rho3, rho3, axis=1), phi3)\n",
    "    E3y_int = np.trapz( np.trapz( (np.abs(Ex3_y)**2)*rho3, rho3, axis=1), phi3)\n",
    "    Ex_int = np.trapz( np.trapz( (np.abs(e_fiber)**2)*rho3, rho3, axis=1), phi3)\n",
    "    \n",
    "    eta_x = overlap_x / (E3x_int * Ex_int)\n",
    "    eta_y = overlap_y / (E3y_int * Ex_int)\n",
    "    \n",
    "    return eta_x + eta_y"
   ]
  },
  {
   "cell_type": "code",
   "execution_count": 132,
   "metadata": {},
   "outputs": [],
   "source": [
    "ff = np.linspace(2*f1, 20*f1, 25)\n",
    "eff = np.empty_like(ff)\n",
    "for i, f in enumerate(ff):\n",
    "    eff[i] = get_efficiency(0.95, f1, f, Ex_01_full_interp)"
   ]
  },
  {
   "cell_type": "code",
   "execution_count": 133,
   "metadata": {
    "scrolled": true
   },
   "outputs": [
    {
     "data": {
      "text/plain": [
       "Text(0, 0.5, 'Total Coupling Efficiency')"
      ]
     },
     "execution_count": 133,
     "metadata": {},
     "output_type": "execute_result"
    },
    {
     "data": {
      "image/png": "[encoded data removed]",
      "text/plain": [
       "<Figure size 432x288 with 1 Axes>"
      ]
     },
     "metadata": {
      "needs_background": "light"
     },
     "output_type": "display_data"
    }
   ],
   "source": [
    "plt.plot(ff/f1, eff, '.-')\n",
    "plt.xlabel('Magnification (f3 / f1)', fontsize=14)\n",
    "plt.ylabel('Total Coupling Efficiency', fontsize=14)"
   ]
  },
  {
   "cell_type": "code",
   "execution_count": 134,
   "metadata": {},
   "outputs": [
    {
     "name": "stdout",
     "output_type": "stream",
     "text": [
      "Maximum collection efficiency: 0.760 at M = 8.750\n"
     ]
    }
   ],
   "source": [
    "f_max = ff[ np.where(eff==np.max(eff))[0][0] ]\n",
    "print(f'Maximum collection efficiency: {np.max(eff):.3f} at M = {f_max/f1:.3f}')"
   ]
  },
  {
   "cell_type": "markdown",
   "metadata": {},
   "source": [
    "## Real fiber\n"
   ]
  },
  {
   "cell_type": "markdown",
   "metadata": {},
   "source": [
    "Now we try doing the calculation for a real fiber (Thorlabs 1060X)."
   ]
  },
  {
   "cell_type": "code",
   "execution_count": 118,
   "metadata": {},
   "outputs": [
    {
     "name": "stdout",
     "output_type": "stream",
     "text": [
      "Fiber V parameter: 2.299\n"
     ]
    }
   ],
   "source": [
    "r_core = 2.9e-6  # (m)\n",
    "r_clad = 62.5e-6\n",
    "\n",
    "n_core = 1.4559\n",
    "n_clad = 1.4497\n",
    "\n",
    "v = r_core * k0 * np.sqrt(n_core**2 - n_clad**2)\n",
    "print(f'Fiber V parameter: {v:.3f}')"
   ]
  },
  {
   "cell_type": "markdown",
   "metadata": {},
   "source": [
    "Solve for mode parameters $u$ and $w$ for the $LP_{01}$ mode that satisfies\n",
    "$$\n",
    "    \\frac{J_1(u)}{J_0(u)} = \\frac{w}{u} \\frac{K_1(w)}{K_0(w)}.\n",
    "$$"
   ]
  },
  {
   "cell_type": "code",
   "execution_count": 119,
   "metadata": {},
   "outputs": [],
   "source": [
    "uu = np.linspace(0, v*0.999, 10000)\n",
    "ww = np.sqrt(v**2 - np.square(uu))  # Using V^2 = u^2 + w^2"
   ]
  },
  {
   "cell_type": "code",
   "execution_count": 120,
   "metadata": {
    "scrolled": true
   },
   "outputs": [
    {
     "data": {
      "text/plain": [
       "<matplotlib.legend.Legend at 0x2aa637414e0>"
      ]
     },
     "execution_count": 120,
     "metadata": {},
     "output_type": "execute_result"
    },
    {
     "data": {
      "image/png": "[encoded data removed]",
      "text/plain": [
       "<Figure size 432x288 with 1 Axes>"
      ]
     },
     "metadata": {
      "needs_background": "light"
     },
     "output_type": "display_data"
    }
   ],
   "source": [
    "plt.plot(uu, uu * scispec.j1(uu) / scispec.j0(uu), label=r'$u \\cdot J_1(u) / J_0(u)$')\n",
    "plt.plot(uu, ww * scispec.k1(ww) / scispec.k0(ww), label=r'$w \\cdot K_1(w) / K_0(w)$')\n",
    "plt.xlabel('u')\n",
    "plt.legend(frameon=False)"
   ]
  },
  {
   "cell_type": "code",
   "execution_count": 121,
   "metadata": {},
   "outputs": [],
   "source": [
    "diff_abs = np.abs(uu * scispec.j1(uu) / scispec.j0(uu) - ww * scispec.k1(ww) / scispec.k0(ww))\n",
    "u_sol = uu[np.argmin(diff_abs)]\n",
    "w_sol = np.sqrt(v**2 - np.square(u_sol))\n",
    "beta_sol  = np.sqrt(n_core**2 * k0**2 - u_sol**2 / r_core**2)"
   ]
  },
  {
   "cell_type": "code",
   "execution_count": 122,
   "metadata": {},
   "outputs": [
    {
     "data": {
      "text/plain": [
       "8579312.602263289"
      ]
     },
     "execution_count": 122,
     "metadata": {},
     "output_type": "execute_result"
    }
   ],
   "source": [
    "beta_sol"
   ]
  },
  {
   "cell_type": "code",
   "execution_count": 123,
   "metadata": {},
   "outputs": [],
   "source": [
    "def get_fiber_e_field(r_core, r_clad, n_core, n_clad):\n",
    "    \"\"\"\n",
    "    Fiber E field distribution, assume x-polarized.\n",
    "    \"\"\"\n",
    "    # Calculate mode parameters `u`, `w`, and `beta`\n",
    "    v = r_core * k0 * np.sqrt(n_core**2 - n_clad**2)\n",
    "    uu = np.linspace(0, v*0.999, 10000)\n",
    "    ww = np.sqrt(v**2 - np.square(uu))  # Using V^2 = u^2 + w^2\n",
    "\n",
    "    diff_abs = np.abs(uu * scispec.j1(uu) / scispec.j0(uu) - ww * scispec.k1(ww) / scispec.k0(ww))\n",
    "    u = uu[np.argmin(diff_abs)]\n",
    "    w = np.sqrt(v**2 - np.square(u))\n",
    "    beta  = np.sqrt(n_core**2 * k0**2 - u**2 / r_core**2)\n",
    "    \n",
    "    # Calculate E-field in fiber\n",
    "    r1 = np.linspace(0, r_core, 1000)      # Radius in core\n",
    "    r2 = np.linspace(r_core, r_clad, 9000) # Radius in cladding\n",
    "\n",
    "    rr1, pp1 = np.meshgrid(r1, phi3)       # (r, phi) coordinates\n",
    "    rr2, pp2 = np.meshgrid(r2, phi3)\n",
    "\n",
    "    Ex_01_in = scispec.jv(0, u * rr1 / a)    # E field in core, r < a\n",
    "    Ex_01_out = scispec.jv(0, u) / scispec.kv(0, w) * scispec.kv(0, w * rr2 / a) # E field in cladding, r > a\n",
    "    \n",
    "    r_full = np.concatenate([r1, r2])\n",
    "    Ex_01_full = np.concatenate([ Ex_01_in, Ex_01_out ], axis=1)\n",
    "\n",
    "    # Resample E field\n",
    "    Ex_01_full_interp = np.empty_like(Ex3_x)\n",
    "\n",
    "    # Loop over phi values\n",
    "    for i in range(Ex3_x.shape[0]):\n",
    "        Ex_01_full_interp[i] = np.interp(rho3, r_full, Ex_01_full[i])\n",
    "    \n",
    "    return rho3, Ex_01_full_interp"
   ]
  },
  {
   "cell_type": "code",
   "execution_count": 124,
   "metadata": {},
   "outputs": [],
   "source": [
    "r_fiber, e_fiber = get_fiber_e_field(r_core, r_clad, n_core, n_clad)"
   ]
  },
  {
   "cell_type": "code",
   "execution_count": 125,
   "metadata": {},
   "outputs": [
    {
     "data": {
      "text/plain": [
       "Text(0, 0.5, 'Total Coupling Efficiency')"
      ]
     },
     "execution_count": 125,
     "metadata": {},
     "output_type": "execute_result"
    },
    {
     "data": {
      "image/png": "[encoded data removed]",
      "text/plain": [
       "<Figure size 432x288 with 1 Axes>"
      ]
     },
     "metadata": {
      "needs_background": "light"
     },
     "output_type": "display_data"
    }
   ],
   "source": [
    "ff = np.linspace(2*f1, 20*f1, 25)\n",
    "eff = np.empty_like(ff)\n",
    "for i, f in enumerate(ff):\n",
    "    eff[i] = get_efficiency(NA, f1, f, e_fiber)\n",
    "    \n",
    "plt.plot(ff/f1, eff, '.-')\n",
    "plt.xlabel('Magnification (f3 / f1)', fontsize=14)\n",
    "plt.ylabel('Total Coupling Efficiency', fontsize=14)"
   ]
  },
  {
   "cell_type": "code",
   "execution_count": 126,
   "metadata": {},
   "outputs": [
    {
     "name": "stdout",
     "output_type": "stream",
     "text": [
      "Maximum collection efficiency: 0.756 at M = 9.500\n"
     ]
    }
   ],
   "source": [
    "f_max = ff[ np.where(eff==np.max(eff))[0][0] ]\n",
    "print(f'Maximum collection efficiency: {np.max(eff):.3f} at M = {f_max/f1:.3f}')"
   ]
  },
  {
   "cell_type": "markdown",
   "metadata": {},
   "source": [
    "Now redo the calculation for the lower NA collection lens that we're using\n",
    "https://www.meetoptics.com/lenses/aspheric/molded-aspheric-lens/s/edmund-optics/p/83-674"
   ]
  },
  {
   "cell_type": "code",
   "execution_count": 138,
   "metadata": {},
   "outputs": [],
   "source": [
    "na_actual = 0.77  # NA of trapping/collection lens\n",
    "f1_actual = 3.1e-3"
   ]
  },
  {
   "cell_type": "code",
   "execution_count": 140,
   "metadata": {},
   "outputs": [
    {
     "data": {
      "text/plain": [
       "Text(0, 0.5, 'Total Coupling Efficiency')"
      ]
     },
     "execution_count": 140,
     "metadata": {},
     "output_type": "execute_result"
    },
    {
     "data": {
      "image/png": "[encoded data removed]",
      "text/plain": [
       "<Figure size 432x288 with 1 Axes>"
      ]
     },
     "metadata": {
      "needs_background": "light"
     },
     "output_type": "display_data"
    }
   ],
   "source": [
    "ff = np.linspace(2*f1_actual, 20*f1_actual, 25)\n",
    "eff = np.empty_like(ff)\n",
    "for i, f in enumerate(ff):\n",
    "    eff[i] = get_efficiency(na_actual, f1_actual, f, e_fiber)\n",
    "    \n",
    "plt.plot(ff / f1_actual, eff, '.-')\n",
    "plt.xlabel('Magnification (f3 / f1)', fontsize=14)\n",
    "plt.ylabel('Total Coupling Efficiency', fontsize=14)"
   ]
  },
  {
   "cell_type": "code",
   "execution_count": 141,
   "metadata": {},
   "outputs": [
    {
     "name": "stdout",
     "output_type": "stream",
     "text": [
      "Maximum collection efficiency: 0.782 at M = 7.250\n"
     ]
    }
   ],
   "source": [
    "f_max = ff[ np.where(eff==np.max(eff))[0][0] ]\n",
    "print(f'Maximum collection efficiency: {np.max(eff):.3f} at M = {f_max/f1_actual:.3f}')"
   ]
  },
  {
   "cell_type": "code",
   "execution_count": null,
   "metadata": {},
   "outputs": [],
   "source": []
  }
 ],
 "metadata": {
  "kernelspec": {
   "display_name": "microspheres",
   "language": "python",
   "name": "microspheres"
  },
  "language_info": {
   "codemirror_mode": {
    "name": "ipython",
    "version": 3
   },
   "file_extension": ".py",
   "mimetype": "text/x-python",
   "name": "python",
   "nbconvert_exporter": "python",
   "pygments_lexer": "ipython3",
   "version": "3.10.2"
  }
 },
 "nbformat": 4,
 "nbformat_minor": 4
}
